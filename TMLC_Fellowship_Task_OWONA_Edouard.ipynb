{
 "cells": [
  {
   "cell_type": "markdown",
   "metadata": {},
   "source": [
    "#### My name is OWONA Edouard"
   ]
  },
  {
   "cell_type": "markdown",
   "metadata": {},
   "source": [
    "## 0. Explain our approach\n",
    "\n",
    "**Problem Statement** : Classify the description of E-commerce products into 4 categories by implementing any NLP approach for analysis and modeling on the provided dataset. The objective is to recognize whether the given description is related to Electronics (0), Households (1), Books (2), or Clothing & Accessories (3) products. Focus majorly on unique preprocessing techniques.\n",
    "To solve that problem, we will use scikit-learn's Naive Bayes Classifier to predict description's labels. Naive Bayes is an algorithm which is commonly used in natural language processing (NLP) tasks such our given problem. A Naive Bayes classifier gives us the conditional probabilities of events occur related to each other by using Bayes' Theorem. Given descriptions are texts so we will use the Multinomial Naive Bayes of scikit-learn.\n",
    "The following importants concepts that we're going to use are related to text classification :\n",
    "**Lemmatization**: It is a process of make the same words in their stem. For example run, ran, running are different in terms of Python. We lemmatiza the word to get run.\n",
    "\n",
    "**Stop words**: The words that are not important in terms of the context (i, and, or, ...)\n",
    "\n",
    "**Tokenization**: The process of extracting words in a sentence by spaces and punctuations. In this project we'll use nltk's word_tokenize\n",
    "\n",
    "**Tf-idf (Term Frequency - Inverse Term Frequency)**: It is a statistical concept to be used to get importance of words in corpus. We'll use scikit-learn's TfidfVectorizer. The vectorizer will calculate the weight of each word in corpus and will return a tf-idf matrix.\n"
   ]
  },
  {
   "cell_type": "code",
   "execution_count": 4,
   "metadata": {},
   "outputs": [],
   "source": [
    "# import all the needed libraries\n",
    "import matplotlib.pyplot as plt\n",
    "import seaborn as sns\n",
    "import pandas as pd\n",
    "# import NLTK to use it on texts\n",
    "import nltk\n",
    "from nltk.tokenize import word_tokenize\n",
    "from nltk.corpus import stopwords\n",
    "from nltk.stem import WordNetLemmatizer\n",
    "\n",
    "# Multinomial Naive Bayes Classifier\n",
    "from sklearn.naive_bayes import MultinomialNB\n",
    "\n",
    "# import Tf-idf Vectorizer \n",
    "from sklearn.feature_extraction.text import TfidfVectorizer\n",
    "\n",
    "# import the Label Encoder\n",
    "from sklearn.preprocessing import LabelEncoder\n",
    "\n",
    "# import the train test split\n",
    "from sklearn.model_selection import train_test_split\n",
    "\n",
    "# TO evaluate the model\n",
    "from sklearn.metrics import accuracy_score\n",
    "from sklearn.metrics import confusion_matrix\n",
    "from sklearn.metrics import classification_report\n",
    "from sklearn.metrics import roc_curve, auc, plot_roc_curve\n",
    "from sklearn.metrics import roc_auc_score\n",
    "\n",
    "%matplotlib inline\n",
    "\n",
    "%config IPCompleter.greedy=True"
   ]
  },
  {
   "cell_type": "markdown",
   "metadata": {},
   "source": [
    "## 1. Exploratory Data Analysis (EDA)"
   ]
  },
  {
   "cell_type": "code",
   "execution_count": 5,
   "metadata": {},
   "outputs": [
    {
     "data": {
      "text/html": [
       "<div>\n",
       "<style scoped>\n",
       "    .dataframe tbody tr th:only-of-type {\n",
       "        vertical-align: middle;\n",
       "    }\n",
       "\n",
       "    .dataframe tbody tr th {\n",
       "        vertical-align: top;\n",
       "    }\n",
       "\n",
       "    .dataframe thead th {\n",
       "        text-align: right;\n",
       "    }\n",
       "</style>\n",
       "<table border=\"1\" class=\"dataframe\">\n",
       "  <thead>\n",
       "    <tr style=\"text-align: right;\">\n",
       "      <th></th>\n",
       "      <th>category</th>\n",
       "      <th>description</th>\n",
       "    </tr>\n",
       "  </thead>\n",
       "  <tbody>\n",
       "    <tr>\n",
       "      <th>0</th>\n",
       "      <td>Household</td>\n",
       "      <td>SAF 'Floral' Framed Painting (Wood, 30 inch x ...</td>\n",
       "    </tr>\n",
       "    <tr>\n",
       "      <th>1</th>\n",
       "      <td>Household</td>\n",
       "      <td>SAF 'UV Textured Modern Art Print Framed' Pain...</td>\n",
       "    </tr>\n",
       "    <tr>\n",
       "      <th>2</th>\n",
       "      <td>Household</td>\n",
       "      <td>SAF Flower Print Framed Painting (Synthetic, 1...</td>\n",
       "    </tr>\n",
       "    <tr>\n",
       "      <th>3</th>\n",
       "      <td>Household</td>\n",
       "      <td>Incredible Gifts India Wooden Happy Birthday U...</td>\n",
       "    </tr>\n",
       "    <tr>\n",
       "      <th>4</th>\n",
       "      <td>Household</td>\n",
       "      <td>Pitaara Box Romantic Venice Canvas Painting 6m...</td>\n",
       "    </tr>\n",
       "  </tbody>\n",
       "</table>\n",
       "</div>"
      ],
      "text/plain": [
       "    category                                        description\n",
       "0  Household  SAF 'Floral' Framed Painting (Wood, 30 inch x ...\n",
       "1  Household  SAF 'UV Textured Modern Art Print Framed' Pain...\n",
       "2  Household  SAF Flower Print Framed Painting (Synthetic, 1...\n",
       "3  Household  Incredible Gifts India Wooden Happy Birthday U...\n",
       "4  Household  Pitaara Box Romantic Venice Canvas Painting 6m..."
      ]
     },
     "metadata": {},
     "output_type": "display_data"
    },
    {
     "name": "stdout",
     "output_type": "stream",
     "text": [
      "<class 'pandas.core.frame.DataFrame'>\n",
      "RangeIndex: 50424 entries, 0 to 50423\n",
      "Data columns (total 2 columns):\n",
      " #   Column       Non-Null Count  Dtype \n",
      "---  ------       --------------  ----- \n",
      " 0   category     50424 non-null  object\n",
      " 1   description  50423 non-null  object\n",
      "dtypes: object(2)\n",
      "memory usage: 788.0+ KB\n",
      "None\n"
     ]
    },
    {
     "data": {
      "text/html": [
       "<div>\n",
       "<style scoped>\n",
       "    .dataframe tbody tr th:only-of-type {\n",
       "        vertical-align: middle;\n",
       "    }\n",
       "\n",
       "    .dataframe tbody tr th {\n",
       "        vertical-align: top;\n",
       "    }\n",
       "\n",
       "    .dataframe thead th {\n",
       "        text-align: right;\n",
       "    }\n",
       "</style>\n",
       "<table border=\"1\" class=\"dataframe\">\n",
       "  <thead>\n",
       "    <tr style=\"text-align: right;\">\n",
       "      <th></th>\n",
       "      <th>category</th>\n",
       "      <th>description</th>\n",
       "    </tr>\n",
       "  </thead>\n",
       "  <tbody>\n",
       "    <tr>\n",
       "      <th>count</th>\n",
       "      <td>50424</td>\n",
       "      <td>50423</td>\n",
       "    </tr>\n",
       "    <tr>\n",
       "      <th>unique</th>\n",
       "      <td>4</td>\n",
       "      <td>27801</td>\n",
       "    </tr>\n",
       "    <tr>\n",
       "      <th>top</th>\n",
       "      <td>Household</td>\n",
       "      <td>Think &amp; Grow Rich About the Author NAPOLEON HI...</td>\n",
       "    </tr>\n",
       "    <tr>\n",
       "      <th>freq</th>\n",
       "      <td>19312</td>\n",
       "      <td>30</td>\n",
       "    </tr>\n",
       "  </tbody>\n",
       "</table>\n",
       "</div>"
      ],
      "text/plain": [
       "         category                                        description\n",
       "count       50424                                              50423\n",
       "unique          4                                              27801\n",
       "top     Household  Think & Grow Rich About the Author NAPOLEON HI...\n",
       "freq        19312                                                 30"
      ]
     },
     "metadata": {},
     "output_type": "display_data"
    }
   ],
   "source": [
    "# Load the data\n",
    "data = pd.read_csv(\"data/archive.zip\")\n",
    "\n",
    "# Add columns to our dataframe\n",
    "data.columns = [\"category\",\"description\"]\n",
    "\n",
    "# Visualize the first rows of the data, info and summary statistics\n",
    "display(data.head())\n",
    "print(data.info())\n",
    "display(data.describe())\n"
   ]
  },
  {
   "cell_type": "markdown",
   "metadata": {},
   "source": [
    "Our dataset has descriptions and category columns which consist of object data type. There are 50424 descriptions. Whe have to display the distribution of categories"
   ]
  },
  {
   "cell_type": "code",
   "execution_count": 6,
   "metadata": {},
   "outputs": [
    {
     "name": "stdout",
     "output_type": "stream",
     "text": [
      "Household                 19312\n",
      "Books                     11820\n",
      "Electronics               10621\n",
      "Clothing & Accessories     8671\n",
      "Name: category, dtype: int64\n",
      "\n",
      "Household                 38.0\n",
      "Books                     23.0\n",
      "Electronics               21.0\n",
      "Clothing & Accessories    17.0\n",
      "Name: category, dtype: float64\n"
     ]
    },
    {
     "data": {
      "image/png": "[encoded data removed]",
      "text/plain": [
       "<Figure size 432x288 with 1 Axes>"
      ]
     },
     "metadata": {
      "needs_background": "light"
     },
     "output_type": "display_data"
    }
   ],
   "source": [
    "# Display the count and the proportion of each category\n",
    "print(data[\"category\"].value_counts())\n",
    "print()\n",
    "print(round(data['category'].value_counts(normalize=True)*1_00))\n",
    "\n",
    "# Visualize the categories with a plot\n",
    "sns.countplot(data[\"category\"])\n",
    "plt.title(\"Category Counts\")\n",
    "plt.show()"
   ]
  },
  {
   "cell_type": "markdown",
   "metadata": {},
   "source": [
    "As we can see, Household and Books are majoritary classes. For our ML training, we need to encode our categories labels, we need to use the scikit learn Label Encoder."
   ]
  },
  {
   "cell_type": "code",
   "execution_count": 7,
   "metadata": {},
   "outputs": [
    {
     "data": {
      "text/html": [
       "<div>\n",
       "<style scoped>\n",
       "    .dataframe tbody tr th:only-of-type {\n",
       "        vertical-align: middle;\n",
       "    }\n",
       "\n",
       "    .dataframe tbody tr th {\n",
       "        vertical-align: top;\n",
       "    }\n",
       "\n",
       "    .dataframe thead th {\n",
       "        text-align: right;\n",
       "    }\n",
       "</style>\n",
       "<table border=\"1\" class=\"dataframe\">\n",
       "  <thead>\n",
       "    <tr style=\"text-align: right;\">\n",
       "      <th></th>\n",
       "      <th>category</th>\n",
       "      <th>description</th>\n",
       "      <th>category_enc</th>\n",
       "    </tr>\n",
       "  </thead>\n",
       "  <tbody>\n",
       "    <tr>\n",
       "      <th>0</th>\n",
       "      <td>Household</td>\n",
       "      <td>SAF 'Floral' Framed Painting (Wood, 30 inch x ...</td>\n",
       "      <td>3</td>\n",
       "    </tr>\n",
       "    <tr>\n",
       "      <th>1</th>\n",
       "      <td>Household</td>\n",
       "      <td>SAF 'UV Textured Modern Art Print Framed' Pain...</td>\n",
       "      <td>3</td>\n",
       "    </tr>\n",
       "    <tr>\n",
       "      <th>2</th>\n",
       "      <td>Household</td>\n",
       "      <td>SAF Flower Print Framed Painting (Synthetic, 1...</td>\n",
       "      <td>3</td>\n",
       "    </tr>\n",
       "    <tr>\n",
       "      <th>3</th>\n",
       "      <td>Household</td>\n",
       "      <td>Incredible Gifts India Wooden Happy Birthday U...</td>\n",
       "      <td>3</td>\n",
       "    </tr>\n",
       "    <tr>\n",
       "      <th>4</th>\n",
       "      <td>Household</td>\n",
       "      <td>Pitaara Box Romantic Venice Canvas Painting 6m...</td>\n",
       "      <td>3</td>\n",
       "    </tr>\n",
       "  </tbody>\n",
       "</table>\n",
       "</div>"
      ],
      "text/plain": [
       "    category                                        description  category_enc\n",
       "0  Household  SAF 'Floral' Framed Painting (Wood, 30 inch x ...             3\n",
       "1  Household  SAF 'UV Textured Modern Art Print Framed' Pain...             3\n",
       "2  Household  SAF Flower Print Framed Painting (Synthetic, 1...             3\n",
       "3  Household  Incredible Gifts India Wooden Happy Birthday U...             3\n",
       "4  Household  Pitaara Box Romantic Venice Canvas Painting 6m...             3"
      ]
     },
     "metadata": {},
     "output_type": "display_data"
    },
    {
     "name": "stdout",
     "output_type": "stream",
     "text": [
      "category        object\n",
      "description     object\n",
      "category_enc     int32\n",
      "dtype: object\n"
     ]
    }
   ],
   "source": [
    "# Initialize the Label Encoder\n",
    "le = LabelEncoder()\n",
    "\n",
    "# Encoder the categories\n",
    "data[\"category_enc\"] = le.fit_transform(data[\"category\"])\n",
    "\n",
    "# display to see the result of our encoding and types\n",
    "display(data.head())\n",
    "print(data.dtypes)\n",
    "\n",
    "# We drop eventualy na values\n",
    "data.dropna(inplace=True)"
   ]
  },
  {
   "cell_type": "markdown",
   "metadata": {},
   "source": [
    "## 2. Feature Engineering"
   ]
  },
  {
   "cell_type": "markdown",
   "metadata": {},
   "source": [
    "Let explore the data before building the classification model"
   ]
  },
  {
   "cell_type": "code",
   "execution_count": 8,
   "metadata": {},
   "outputs": [
    {
     "name": "stdout",
     "output_type": "stream",
     "text": [
      "category\n",
      "Books                     135.613198\n",
      "Clothing & Accessories     72.372664\n",
      "Electronics               134.540062\n",
      "Household                 108.638774\n",
      "Name: word_count, dtype: float64\n"
     ]
    },
    {
     "data": {
      "image/png": "[encoded data removed]",
      "text/plain": [
       "<Figure size 432x288 with 1 Axes>"
      ]
     },
     "metadata": {
      "needs_background": "light"
     },
     "output_type": "display_data"
    }
   ],
   "source": [
    "# Store the number of words in each description\n",
    "data[\"word_count\"] = data[\"description\"].str.split().str.len()\n",
    "\n",
    "# Print the average number of words in each cateory\n",
    "print(data.groupby('category')[\"word_count\"].mean())\n",
    "\n",
    "# Visualize the distribution of words in each category\n",
    "sns.distplot(data[data[\"category\"] == \"Books\"]['word_count'],label=\"Books\")\n",
    "sns.distplot(data[data[\"category\"] == \"Electronics\"]['word_count'],label=\"Electronics\")\n",
    "sns.distplot(data[data[\"category\"] == \"Household\"]['word_count'],label=\"Household\")\n",
    "sns.distplot(data[data[\"category\"] == \"Clothing & Accessories\"]['word_count'],label=\"Clothing & Accessories\")\n",
    "# Add the legend\n",
    "plt.legend()\n",
    "plt.show()"
   ]
  },
  {
   "cell_type": "markdown",
   "metadata": {},
   "source": [
    "It seems that books and electronics tend to contain more number of words"
   ]
  },
  {
   "cell_type": "code",
   "execution_count": 9,
   "metadata": {},
   "outputs": [
    {
     "data": {
      "text/plain": [
       "0        [saf, 'floral, ', framed, painting, (, wood, ,...\n",
       "1        [saf, 'uv, textured, modern, art, print, frame...\n",
       "2        [saf, flower, print, framed, painting, (, synt...\n",
       "3        [incredible, gifts, india, wooden, happy, birt...\n",
       "4        [pitaara, box, romantic, venice, canvas, paint...\n",
       "                               ...                        \n",
       "50419    [strontium, microsd, class, 10, 8gb, memory, c...\n",
       "50420    [crossbeats, wave, waterproof, bluetooth, wire...\n",
       "50421    [karbonn, titanium, wind, w4, (, white, ), kar...\n",
       "50422    [samsung, guru, fm, plus, (, sm-b110e/d, ,, bl...\n",
       "50423           [micromax, canvas, win, w121, (, white, )]\n",
       "Name: description, Length: 50423, dtype: object"
      ]
     },
     "execution_count": 9,
     "metadata": {},
     "output_type": "execute_result"
    }
   ],
   "source": [
    "# Make the letters lower case and tokenize the words\n",
    "tokenized_messages = data['description'].str.lower().apply(word_tokenize)\n",
    "tokenized_messages"
   ]
  },
  {
   "cell_type": "code",
   "execution_count": 35,
   "metadata": {},
   "outputs": [
    {
     "name": "stdout",
     "output_type": "stream",
     "text": [
      "0        [saf, framed, painting, wood, inch, x, inch, s...\n",
      "1        [saf, textured, modern, art, print, framed, pa...\n",
      "2        [saf, flower, print, framed, painting, synthet...\n",
      "3        [incredible, gifts, india, wooden, happy, birt...\n",
      "4        [pitaara, box, romantic, venice, canvas, paint...\n",
      "                               ...                        \n",
      "50419    [strontium, microsd, class, memory, card, blac...\n",
      "50420    [crossbeats, wave, waterproof, bluetooth, wire...\n",
      "50421    [karbonn, titanium, wind, white, karbonn, tita...\n",
      "50422    [samsung, guru, fm, plus, black, colour, black...\n",
      "50423                       [micromax, canvas, win, white]\n",
      "Name: description, Length: 50423, dtype: object\n"
     ]
    }
   ],
   "source": [
    "# We need to get only alphanumeric tokens, so we define a function\n",
    "def alphanum_tokens(tokens):\n",
    "    \"\"\"  THe goal of this function is to remove non alphanum caracters \"\"\"\n",
    "    alpha = []\n",
    "    for token in tokens:\n",
    "        if str.isalpha(token) or token in [\"\\n't\",\"won\\'t\"]:\n",
    "            if token == \"\\n't\":\n",
    "                alpha.append('not')\n",
    "                continue\n",
    "            elif token == \"won\\'t\":\n",
    "                alpha.append(\"wont\")\n",
    "                continue\n",
    "            alpha.append(token)\n",
    "    return alpha\n",
    "\n",
    "# Apply our function to tokens\n",
    "tokenized_messages = tokenized_messages.apply(alphanum_tokens)\n",
    "print(tokenized_messages)"
   ]
  },
  {
   "cell_type": "code",
   "execution_count": 38,
   "metadata": {},
   "outputs": [
    {
     "name": "stdout",
     "output_type": "stream",
     "text": [
      "0        [saf, framed, painting, wood, inch, x, inch, s...\n",
      "1        [saf, textured, modern, art, print, framed, pa...\n",
      "2        [saf, flower, print, framed, painting, synthet...\n",
      "3        [incredible, gifts, india, wooden, happy, birt...\n",
      "4        [pitaara, box, romantic, venice, canvas, paint...\n",
      "                               ...                        \n",
      "50419    [strontium, microsd, class, memory, card, blac...\n",
      "50420    [crossbeats, wave, waterproof, bluetooth, wire...\n",
      "50421    [karbonn, titanium, wind, white, karbonn, tita...\n",
      "50422    [samsung, guru, fm, plus, black, colour, black...\n",
      "50423                       [micromax, canvas, win, white]\n",
      "Name: description, Length: 50423, dtype: object\n"
     ]
    }
   ],
   "source": [
    "# We also need to remove stop words, let's define a function for that\n",
    "\n",
    "def remove_stop_words(tokens):\n",
    "    \"\"\" The goal of this function is to remove all stop words based on the nltk\n",
    "    stopwords list \"\"\"\n",
    "    no_stop = []\n",
    "    for token in tokens:\n",
    "        if token not in stopwords.words(\"english\"):\n",
    "            no_stop.append(token)\n",
    "    return no_stop\n",
    "tokenized_messages = tokenized_messages.apply(remove_stop_words)\n",
    "print(tokenized_messages)"
   ]
  },
  {
   "cell_type": "code",
   "execution_count": 41,
   "metadata": {},
   "outputs": [
    {
     "name": "stdout",
     "output_type": "stream",
     "text": [
      "0        saf framed painting wood inch x inch special e...\n",
      "1        saf textured modern art print framed painting ...\n",
      "2        saf flower print framed painting synthetic inc...\n",
      "3        incredible gift india wooden happy birthday un...\n",
      "4        pitaara box romantic venice canvas painting th...\n",
      "                               ...                        \n",
      "50419    strontium microsd class memory card black mobi...\n",
      "50420    crossbeats wave waterproof bluetooth wireless ...\n",
      "50421    karbonn titanium wind white karbonn titanium w...\n",
      "50422    samsung guru fm plus black colour black compac...\n",
      "50423                            micromax canvas win white\n",
      "Name: description, Length: 50423, dtype: object\n"
     ]
    }
   ],
   "source": [
    "# Define a function to lemmatize our words in order to transform word tabulars to sentences \n",
    "def lemmatize(tokens):\n",
    "    \"\"\" This function lemmatize the messages \"\"\"\n",
    "    lemmatizer = WordNetLemmatizer()\n",
    "\n",
    "    # Create the lemmatized list\n",
    "    lemmatized = []\n",
    "    for token in tokens:\n",
    "        lemmatized.append(lemmatizer.lemmatize(token))\n",
    "    return \" \".join(lemmatized)\n",
    "tokenized_messages = tokenized_messages.apply(lemmatize)\n",
    "print(tokenized_messages)"
   ]
  },
  {
   "cell_type": "code",
   "execution_count": 43,
   "metadata": {},
   "outputs": [
    {
     "data": {
      "text/html": [
       "<div>\n",
       "<style scoped>\n",
       "    .dataframe tbody tr th:only-of-type {\n",
       "        vertical-align: middle;\n",
       "    }\n",
       "\n",
       "    .dataframe tbody tr th {\n",
       "        vertical-align: top;\n",
       "    }\n",
       "\n",
       "    .dataframe thead th {\n",
       "        text-align: right;\n",
       "    }\n",
       "</style>\n",
       "<table border=\"1\" class=\"dataframe\">\n",
       "  <thead>\n",
       "    <tr style=\"text-align: right;\">\n",
       "      <th></th>\n",
       "      <th>category</th>\n",
       "      <th>description</th>\n",
       "      <th>category_enc</th>\n",
       "      <th>word_count</th>\n",
       "    </tr>\n",
       "  </thead>\n",
       "  <tbody>\n",
       "    <tr>\n",
       "      <th>0</th>\n",
       "      <td>Household</td>\n",
       "      <td>saf framed painting wood inch x inch special e...</td>\n",
       "      <td>3</td>\n",
       "      <td>59</td>\n",
       "    </tr>\n",
       "    <tr>\n",
       "      <th>1</th>\n",
       "      <td>Household</td>\n",
       "      <td>saf textured modern art print framed painting ...</td>\n",
       "      <td>3</td>\n",
       "      <td>224</td>\n",
       "    </tr>\n",
       "    <tr>\n",
       "      <th>2</th>\n",
       "      <td>Household</td>\n",
       "      <td>saf flower print framed painting synthetic inc...</td>\n",
       "      <td>3</td>\n",
       "      <td>184</td>\n",
       "    </tr>\n",
       "    <tr>\n",
       "      <th>3</th>\n",
       "      <td>Household</td>\n",
       "      <td>incredible gift india wooden happy birthday un...</td>\n",
       "      <td>3</td>\n",
       "      <td>184</td>\n",
       "    </tr>\n",
       "    <tr>\n",
       "      <th>4</th>\n",
       "      <td>Household</td>\n",
       "      <td>pitaara box romantic venice canvas painting th...</td>\n",
       "      <td>3</td>\n",
       "      <td>230</td>\n",
       "    </tr>\n",
       "  </tbody>\n",
       "</table>\n",
       "</div>"
      ],
      "text/plain": [
       "    category                                        description  category_enc  \\\n",
       "0  Household  saf framed painting wood inch x inch special e...             3   \n",
       "1  Household  saf textured modern art print framed painting ...             3   \n",
       "2  Household  saf flower print framed painting synthetic inc...             3   \n",
       "3  Household  incredible gift india wooden happy birthday un...             3   \n",
       "4  Household  pitaara box romantic venice canvas painting th...             3   \n",
       "\n",
       "   word_count  \n",
       "0          59  \n",
       "1         224  \n",
       "2         184  \n",
       "3         184  \n",
       "4         230  "
      ]
     },
     "metadata": {},
     "output_type": "display_data"
    }
   ],
   "source": [
    "# Replace the columns with tokenized messages\n",
    "data[\"description\"] = tokenized_messages\n",
    "display(data.head())"
   ]
  },
  {
   "cell_type": "markdown",
   "metadata": {},
   "source": [
    "## 3. Building the model"
   ]
  },
  {
   "cell_type": "code",
   "execution_count": 47,
   "metadata": {},
   "outputs": [],
   "source": [
    "# Select the features and the target\n",
    "X = data[\"description\"]\n",
    "y = data[\"category_enc\"]"
   ]
  },
  {
   "cell_type": "code",
   "execution_count": 48,
   "metadata": {},
   "outputs": [],
   "source": [
    "# Split our dataset into train and test sets\n",
    "X_train, X_test, y_train, y_test = train_test_split(X, y, test_size = 0.2, random_state = 42)"
   ]
  },
  {
   "cell_type": "markdown",
   "metadata": {},
   "source": [
    "We can now get the most important words in the document, using the term frequency - inverse document frequency"
   ]
  },
  {
   "cell_type": "code",
   "execution_count": 49,
   "metadata": {},
   "outputs": [],
   "source": [
    "# Create the tf-idf vectorizer\n",
    "vectorizer = TfidfVectorizer(strip_accents='ascii')\n",
    "\n",
    "# First fit the vectorizer with the training set\n",
    "tfidf_train = vectorizer.fit_transform(X_train)\n",
    "\n",
    "# Now we can fit our test data with the same vectorizer\n",
    "tfidf_test = vectorizer.transform(X_test)"
   ]
  },
  {
   "cell_type": "markdown",
   "metadata": {},
   "source": [
    "Now we can build our ML model"
   ]
  },
  {
   "cell_type": "code",
   "execution_count": 51,
   "metadata": {},
   "outputs": [
    {
     "name": "stdout",
     "output_type": "stream",
     "text": [
      "Accuracy : 94.35795736241943\n"
     ]
    }
   ],
   "source": [
    "# Initialize the Multinomial Naive Bayes classifier\n",
    "nb = MultinomialNB()\n",
    "\n",
    "# FIt the model\n",
    "nb.fit(tfidf_train, y_train)\n",
    "\n",
    "# print the accuracy score\n",
    "print(\"Accuracy :\", nb.score(tfidf_test, y_test)*1_00)"
   ]
  },
  {
   "cell_type": "markdown",
   "metadata": {},
   "source": [
    "We have approximately 94.36% of accuracy. However, wwe need to compute more metrics to be sure that our model perform well. "
   ]
  },
  {
   "cell_type": "markdown",
   "metadata": {},
   "source": [
    "## 4. Evaluate the model"
   ]
  },
  {
   "cell_type": "code",
   "execution_count": 101,
   "metadata": {},
   "outputs": [
    {
     "name": "stdout",
     "output_type": "stream",
     "text": [
      "Confusion Matrix\n",
      "\n",
      "[[2151   18   30  136]\n",
      " [   2 1670    7   80]\n",
      " [  41    5 1892  174]\n",
      " [  20   16   40 3803]]\n",
      "\n",
      "\n",
      "Classification Report\n",
      "\n",
      "              precision    recall  f1-score   support\n",
      "\n",
      "           0       0.97      0.92      0.95      2335\n",
      "           1       0.98      0.95      0.96      1759\n",
      "           2       0.96      0.90      0.93      2112\n",
      "           3       0.91      0.98      0.94      3879\n",
      "\n",
      "    accuracy                           0.94     10085\n",
      "   macro avg       0.95      0.94      0.94     10085\n",
      "weighted avg       0.95      0.94      0.94     10085\n",
      "\n"
     ]
    }
   ],
   "source": [
    "# Predict the labels\n",
    "y_pred = nb.predict(tfidf_test)\n",
    "\n",
    "# Print the confusion matrix\n",
    "cm = confusion_matrix(y_test, y_pred)\n",
    "print(\"Confusion Matrix\\n\")\n",
    "print(cm)\n",
    "\n",
    "# print the classification report\n",
    "cr = classification_report(y_test, y_pred)\n",
    "print(\"\\n\\nClassification Report\\n\")\n",
    "print(cr)\n",
    "\n",
    "# Calculate the predicted probabilities\n",
    "y_pred_proba = nb.predict_proba(tfidf_test)"
   ]
  },
  {
   "cell_type": "markdown",
   "metadata": {},
   "source": [
    "According to our confusion matrix and the classification report, our model is performing well to predict Books (class 0) and Clothing & Accessories categories (1)"
   ]
  },
  {
   "cell_type": "markdown",
   "metadata": {},
   "source": [
    "Source : https://www.kaggle.com/code/barishasdemir/classification-with-naive-bayes"
   ]
  }
 ],
 "metadata": {
  "kernelspec": {
   "display_name": "Python 3",
   "language": "python",
   "name": "python3"
  },
  "language_info": {
   "codemirror_mode": {
    "name": "ipython",
    "version": 3
   },
   "file_extension": ".py",
   "mimetype": "text/x-python",
   "name": "python",
   "nbconvert_exporter": "python",
   "pygments_lexer": "ipython3",
   "version": "3.8.3"
  },
  "vscode": {
   "interpreter": {
    "hash": "ad2bdc8ecc057115af97d19610ffacc2b4e99fae6737bb82f5d7fb13d2f2c186"
   }
  }
 },
 "nbformat": 4,
 "nbformat_minor": 4
}
